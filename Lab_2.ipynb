{
  "nbformat": 4,
  "nbformat_minor": 0,
  "metadata": {
    "colab": {
      "name": "Copy of Copy of Copy of Lab_2.ipynb",
      "provenance": [],
      "collapsed_sections": []
    },
    "kernelspec": {
      "display_name": "Python 3.7.7 64-bit ('base': conda)",
      "name": "python_defaultSpec_1600651579462"
    },
    "language_info": {
      "codemirror_mode": {
        "name": "ipython",
        "version": 3
      },
      "file_extension": ".py",
      "mimetype": "text/x-python",
      "name": "python",
      "nbconvert_exporter": "python",
      "pygments_lexer": "ipython3",
      "version": "3.7.7-final"
    }
  },
  "cells": [
    {
      "cell_type": "markdown",
      "metadata": {
        "id": "h-C8omlh6Pq4"
      },
      "source": [
        "# **Lab 2: Naive Bayes Classification and Linear Regression**\n",
        "\n",
        "CS 412, Introduction to Machine Learning\n",
        "\n",
        "Department of Computer Science, University of Illinois at Chicago\n",
        "\n",
        "***This is a group work for at most four students.***\n",
        "\n",
        "This is your second lab work, and you will work on it with your teammates. You will learn how to apply the Naive Bayes model to filter spam SMS messages. You will also learn how to make real-valued predictions using a linear regression model. \n",
        "\n",
        "***Deadline:***\n",
        "This assignment is due **Oct 21** (Anywhere on Earth, [AoE](https://www.timeanddate.com/time/zones/aoe)). That is, you can resubmit as often as you like provided that anywhere on Earth is still on or before this date. \n",
        "\n",
        "***How to submit:***\n",
        "See bottom of the page\n",
        "\n",
        "***Python version:***\n",
        "The code should work on Python 3.7 or later, though it might work on earlier versions (not tested). There should be no version problem if you work on Colab.  See a more detailed introduction to Python and Colab at this [link](https://colab.research.google.com/github/cs231n/cs231n.github.io/blob/master/python-colab.ipynb#scrollTo=nxvEkGXPM3Xh).  \n",
        "\n",
        "**Please note before starting the lab:**\n",
        "\n",
        "1. If you use Colab, copy this file to your own Google Drive so that you can edit it.  Ignore the following message when you open the notebook (if it shows up): \\\\\n",
        "`Unrecognized runtime \"python_defaultSpec_1600651579462\"; defaulting to \"python3\"`\n",
        "\n",
        "2. Since the experiments involve randomness, it is important to ensure that your results are replicable. To this end, your implementation should take one integer (or any numeric value) as a seed that is used to initialize the random number generators.\n",
        "See, e.g. [random.seed](https://docs.python.org/3/library/random.html).\n",
        "This has been done for you in the first code block below.\n",
        "\n",
        "3. <font color='red'> There are unit test cases provided after most functions you need to implement. Make good use of them.</font>  For numerical results (i.e., not discrete values), it is fine if your result is within 1% relative difference from the reference result."
      ]
    },
    {
      "cell_type": "markdown",
      "metadata": {
        "id": "MuqxFfyO6Pq6"
      },
      "source": [
        "## Problem 1. Naive Bayes Classification **(62 points)** {-}\n",
        "\n",
        "In this problem, you will implement the Naive Bayes classification method and use it for SMS message classifcation. The SMS dataset `SMSSpamCollection` has been provided in the assignment folder, which also can be downloaded from the [UCI Link](http://archive.ics.uci.edu/ml/datasets/SMS+Spam+Collection).  In case the repository gets offline occasionally, we have made local copies for the [dataset](https://www.cs.uic.edu/~zhangx/teaching/SMSSpamCollection.dat) and [readme](https://www.cs.uic.edu/~zhangx/teaching/readme.txt).\n",
        "\n",
        "To help you to better understand this algorithm, you are **not** allowed to use any off-the-shelf naive Bayes implementations from third-party libraries. We will implement it with detailed step-by-step instructions."
      ]
    },
    {
      "cell_type": "markdown",
      "metadata": {
        "id": "io7R6hOn6Pq9"
      },
      "source": [
        "### Recap of the Naive Bayes Algorithm  {-}\n",
        "Naive Bayes classification is a fast and simple classification method. Its efficiency stems from some simplifications we make about the underlying probability distributions, namely, the assumption about the conditional independence of features. Suppose for any class $Y$, we have a probability distribution over all possible combinations of values for a feature vector $X$:\n",
        "$$\n",
        "P(X|Y).\n",
        "$$\n",
        "The main idea of Bayesian classification is to reverse the direction of dependence --- we want to predict the label based on the features:\n",
        "$$\n",
        "P(Y|X).\n",
        "$$\n",
        "This is made possible by the Bayes theorem:\n",
        "\\begin{equation}\n",
        "P(Y|X) = \\frac{P(X|Y)P(Y)}{P(X)}. \\tag{1}\n",
        "\\end{equation}\n",
        "\n",
        "To make it more concrete, let us consider the SMS message classification problem. Ignoring punctuations, each SMS message contains an ordered sequence of $T$ words (case-insensitive) $X = \\{X_1, ...,X_T\\}$. That is, $X$ corresponds to an SMS message, and $X_i$ corresponds to the $i$-th word in it. For each message from the training set, there is a corresponding label $Y\\in\\{spam, ham\\}$. \n",
        "\n",
        "**Model specification and key assumption.** The conditional distribution can be written as:\n",
        "$$\n",
        "P(X|Y) = P(X_1, ..., X_T|Y).\n",
        "$$\n",
        "Since this conditional probability is intractable, we simplify it in two steps:\n",
        "\n",
        "1. **Assume** that all features $X_i$ are independent, conditional on the category $Y$. This leads to a naive Bayes model which writes formally as\n",
        "\\begin{equation}\n",
        "P(X|Y) = P(X_1, ..., X_T|Y) = \\prod_{i=1}^T P(X_i|Y). \\tag{2}\n",
        "\\end{equation}\n",
        "\n",
        "2. **Assume** that $P(X_i | Y) = P(X_j|Y)$ for all $i \\neq j$.\n",
        "In other words, given the label $Y$, the value of the $7$-th word has the same distribution as the value of the $10$-th word. Note this is not assumed by default in naive Bayes, and we make this additional assumption to significantly simplify our model.\n",
        "It is often referred to as \"tying\" the probability $P(X_i|Y)$ over $i$.\n",
        "As a result, the order of words no longer matters for $P(X|Y)$,\n",
        "i.e., \n",
        "$$P(X=\\text{'cat is cute'}|Y) \\ \\ = \\ \\ P(X=\\text{'cute cat is'}|Y) \\quad \\text{for all } Y.\n",
        "$$\n",
        "\n",
        "Plugging Eq (2) into the Bayes theorem in Eq (1), we arrive at\n",
        "$$\n",
        "\\begin{aligned}\n",
        "P(Y|X) &= \\frac{P(Y) P(X|Y)}{P(X)} = \\frac{P(Y)\\prod_{i=1}^T P(X_i|Y)}{P(X)} \\\\\n",
        "&\\propto P(Y)\\prod_{i=1}^T P(X_i|Y),\n",
        "\\end{aligned}\n",
        "$$\n",
        "where $\\propto$ denotes proportionality. Since the denominator $P(X)$ does not depend on $Y$, the prediction probability is proportional to the numerator."
      ]
    },
    {
      "cell_type": "markdown",
      "metadata": {
        "id": "jWSd8rJUqhZ7"
      },
      "source": [
        "**Making predictions.**\n",
        "Naturally, given an SMS message $X$, we can first compute $P(Y|X)$ for all possible categories $Y$ (in this example, only two categories), and then make predictions by outputting the $Y$ that maximizes the probability. This can be expressed mathmatically as:\n",
        "$$\n",
        "\\arg\\max_Y P(Y)\\prod_{i=1}^T P(X_i|Y) = \\arg\\max_Y \\left\\{\\log P(Y) + \\sum_{i=1}^T \\log P(X_i|Y) \\right\\}. \\tag{3}\n",
        "$$\n",
        "If there is a tie, we just break it arbitrarily.\n",
        "Here the logarithm uses natural basis.\n",
        "\n",
        "**Learning the model.**\n",
        "To apply the prediction rule in Eq (3), we need to first figure out (formally termed \"estimate\") the value of $P(Y)$ and $P(X_i|Y)$ by using the training data. Recall that since we tie the conditional probabilities $P(X_i|Y)$ across all $i$,\n",
        "the subscript $i$ can be dropped.\n",
        "However, we still carry it just for clarity. \n",
        "\n",
        "Firstly, $P(Y=y)$ can be estimated by computing the frequency of category $y$ in the whole training set ($y$ can be either \"$spam$\" or \"$ham$\"). Here, in order to avoid confusion, we have used the convention that capital letters denote random variables, and lowercase letters denote their possible instantiations.\n",
        "\n",
        "Secondly, $P(X_i = w |Y=y)$ for a word $w$ (e.g., \"cat\") can be estimated by counting the frequency that it appears in the training message set for a given category $y$ (derivation not required in the course):\n",
        "\\begin{align}\n",
        "P(X_i &= w|Y=y) \n",
        "= \\frac{Count(w, y)}{Count(y)}, \\ \\ where\n",
        "\\tag{4} \\\\\n",
        "\\notag\n",
        " Count(w, y) &= \\text{total number of occurrence of $w$ in all SMS messages of category } y \\\\\n",
        "\\notag\n",
        "Count(y) &= \\text{total number of words appearing in SMS messages of category } y.\n",
        "\\end{align}\n",
        "\n",
        "*Remark 1:* If $w$ appears in a single message for 3 times, then it contributes to $Count(w, y)$ by 3, not 1. Similarly, $Count(y)$ indeed equals the total length of all messages in category $y$.\n",
        "\n",
        "*Remark 2:* Obviously, the right-hand side of Eq (4) does not depend on $i$. This is consistent with our previous note that we carry the subscript $i$ in $P(X_i|Y)$ only for clarity, while in fact different $i$ share the same $P(X_i|Y)$.\n",
        "\n",
        "For example, suppose there are four messages \n",
        "$$\n",
        "\\text{{'cat is cute', ham}, {'dog rocks', spam}, {'whatever is is right', ham}, {'hello', spam}.}\n",
        "$$\n",
        "Then $P(X_i = '\\text{is}' | \\text{ham}) = 3 / 7$ (**not** $2/7$),\n",
        "and $P(X_i = '\\text{is}' | \\text{spam}) = 0 / 3$.\n",
        "\n",
        "Quiz (no need to submit): compute $P(X_i = w | \\text{ham})$, for $w = $ 'cat', 'is', 'cute', 'whatever', and 'right'. Check if their sum is 1. Now appreciate why in Remark 1, a word appearing for mulitple times in a single message should be counted multiple times.\n",
        "\n",
        "You may have noticed that any word $w$ with $Count(w,y)=0$ leads to $P(X_i = w|Y=y) = 0$.\n",
        "As a result, by Eq (2), any message $x$ has conditional probably $P(X = x |Y=y) = 0$ if $w$ appears in $x$.\n",
        "Such a \"veto\" is not favorable, and can create significant problems when a word in the test data has never appeared in the training data (think why?).\n",
        "To bypass this issue, we can add pseudo-count, a.k.a additive smoothing:\n",
        "$$\n",
        "\\hat{P}(X_i = w|Y=y) = \\frac{Count(w, y) + \\alpha}{Count(y) + N\\alpha}, \\tag{5}\n",
        "$$\n",
        "where $\\alpha$ is a smoothing parameter. $\\alpha=0$ corresponds to no smoothing. In our experiment, let us set $\\alpha = 1.0$. $N$ denotes the number of distinct words in the vocabulary, and let us set $N = 20,000$ in this lab.\n",
        "\n",
        "Now Let's start with data preprocessing."
      ]
    },
    {
      "cell_type": "code",
      "metadata": {
        "id": "TqrY7MaJ6PrA"
      },
      "source": [
        "# set up code for this experiment\n",
        "import pandas as pd\n",
        "import numpy as np\n",
        "import string\n",
        "from collections import Counter\n",
        "import matplotlib.pyplot as plt\n",
        "\n",
        "%matplotlib inline\n",
        "\n",
        "np.random.seed(1)"
      ],
      "execution_count": 52,
      "outputs": []
    },
    {
      "cell_type": "markdown",
      "metadata": {
        "id": "y8VYKq9-6PrP"
      },
      "source": [
        "### Data Preprocessing (not for grading) {-}\n",
        "\n",
        "We will use `pandas` to import the dataset. Since `SMSSpamCollection` separates labels and text content in each message by a tab, we will use '\\t' as the value for the `sep` argument and read raw data into a pandas dataframe. As a result, we store labels and SMS messages into two columns. To facilitate the subsequent steps, we also rename the columns by passing a list `['label', 'sms_message']` to the `names` argument of the `read_table()` method.\n",
        "\n",
        "Let us print the first five rows of the dataframe to get a basic understanding of the dataset."
      ]
    },
    {
      "cell_type": "code",
      "metadata": {
        "colab": {
          "base_uri": "https://localhost:8080/",
          "height": 206
        },
        "id": "FXBuWAZ06PrQ",
        "outputId": "9e96c479-de11-4131-c33b-d0510b4914ee"
      },
      "source": [
        "# Download the dataset to the server\n",
        "# Import the data using the read_csv() method from pandas\n",
        "\n",
        "import urllib.request\n",
        "import shutil\n",
        "\n",
        "url = 'https://www.cs.uic.edu/~zhangx/teaching/SMSSpamCollection.dat'\n",
        "file_name = 'SMSSpamCollection.dat'\n",
        "with urllib.request.urlopen(url) as response, open(file_name, 'wb') as out_file:\n",
        "    shutil.copyfileobj(response, out_file)\n",
        "\n",
        "df = pd.read_csv(file_name,\n",
        "                    sep='\\t',\n",
        "                    header=None,\n",
        "                    names=['label', 'sms_message'])\n",
        "df.head()\n",
        "# len(df)"
      ],
      "execution_count": 53,
      "outputs": [
        {
          "output_type": "execute_result",
          "data": {
            "text/html": [
              "<div>\n",
              "<style scoped>\n",
              "    .dataframe tbody tr th:only-of-type {\n",
              "        vertical-align: middle;\n",
              "    }\n",
              "\n",
              "    .dataframe tbody tr th {\n",
              "        vertical-align: top;\n",
              "    }\n",
              "\n",
              "    .dataframe thead th {\n",
              "        text-align: right;\n",
              "    }\n",
              "</style>\n",
              "<table border=\"1\" class=\"dataframe\">\n",
              "  <thead>\n",
              "    <tr style=\"text-align: right;\">\n",
              "      <th></th>\n",
              "      <th>label</th>\n",
              "      <th>sms_message</th>\n",
              "    </tr>\n",
              "  </thead>\n",
              "  <tbody>\n",
              "    <tr>\n",
              "      <th>0</th>\n",
              "      <td>ham</td>\n",
              "      <td>Go until jurong point, crazy.. Available only ...</td>\n",
              "    </tr>\n",
              "    <tr>\n",
              "      <th>1</th>\n",
              "      <td>ham</td>\n",
              "      <td>Ok lar... Joking wif u oni...</td>\n",
              "    </tr>\n",
              "    <tr>\n",
              "      <th>2</th>\n",
              "      <td>spam</td>\n",
              "      <td>Free entry in 2 a wkly comp to win FA Cup fina...</td>\n",
              "    </tr>\n",
              "    <tr>\n",
              "      <th>3</th>\n",
              "      <td>ham</td>\n",
              "      <td>U dun say so early hor... U c already then say...</td>\n",
              "    </tr>\n",
              "    <tr>\n",
              "      <th>4</th>\n",
              "      <td>ham</td>\n",
              "      <td>Nah I don't think he goes to usf, he lives aro...</td>\n",
              "    </tr>\n",
              "  </tbody>\n",
              "</table>\n",
              "</div>"
            ],
            "text/plain": [
              "  label                                        sms_message\n",
              "0   ham  Go until jurong point, crazy.. Available only ...\n",
              "1   ham                      Ok lar... Joking wif u oni...\n",
              "2  spam  Free entry in 2 a wkly comp to win FA Cup fina...\n",
              "3   ham  U dun say so early hor... U c already then say...\n",
              "4   ham  Nah I don't think he goes to usf, he lives aro..."
            ]
          },
          "metadata": {},
          "execution_count": 53
        }
      ]
    },
    {
      "cell_type": "markdown",
      "metadata": {
        "id": "xzzbwM0h6Prc"
      },
      "source": [
        "#### Step 1: Convert string labels to numerical labels (not for grading) {-}\n",
        "\n",
        "As we can see, there are 2 columns. The first column, which is named `label`, takes two values `spam` (the message is spam) and `ham` (the message is not spam). The second column is the text content of the SMS message that is being classified.  It is a string in which words are separated by space.\n",
        "\n",
        "Note that the string-typed labels are unwieldy for calculating performance metrices, e.g., when calculating precision and recall scores. Hence, let's convert the lables to binary variables, 0 for `ham` and 1 for `spam`. "
      ]
    },
    {
      "cell_type": "code",
      "metadata": {
        "colab": {
          "base_uri": "https://localhost:8080/",
          "height": 206
        },
        "id": "U5myRuvh6Prd",
        "outputId": "c438a525-67c9-4b4a-861f-6362466139f4"
      },
      "source": [
        "# Run the next line only once after running the previous code block\n",
        "# Running it more than once will turn the labels into NaN\n",
        "df['label'] = df.label.map({'ham':0, 'spam':1})\n",
        "df.head()"
      ],
      "execution_count": 54,
      "outputs": [
        {
          "output_type": "execute_result",
          "data": {
            "text/html": [
              "<div>\n",
              "<style scoped>\n",
              "    .dataframe tbody tr th:only-of-type {\n",
              "        vertical-align: middle;\n",
              "    }\n",
              "\n",
              "    .dataframe tbody tr th {\n",
              "        vertical-align: top;\n",
              "    }\n",
              "\n",
              "    .dataframe thead th {\n",
              "        text-align: right;\n",
              "    }\n",
              "</style>\n",
              "<table border=\"1\" class=\"dataframe\">\n",
              "  <thead>\n",
              "    <tr style=\"text-align: right;\">\n",
              "      <th></th>\n",
              "      <th>label</th>\n",
              "      <th>sms_message</th>\n",
              "    </tr>\n",
              "  </thead>\n",
              "  <tbody>\n",
              "    <tr>\n",
              "      <th>0</th>\n",
              "      <td>0</td>\n",
              "      <td>Go until jurong point, crazy.. Available only ...</td>\n",
              "    </tr>\n",
              "    <tr>\n",
              "      <th>1</th>\n",
              "      <td>0</td>\n",
              "      <td>Ok lar... Joking wif u oni...</td>\n",
              "    </tr>\n",
              "    <tr>\n",
              "      <th>2</th>\n",
              "      <td>1</td>\n",
              "      <td>Free entry in 2 a wkly comp to win FA Cup fina...</td>\n",
              "    </tr>\n",
              "    <tr>\n",
              "      <th>3</th>\n",
              "      <td>0</td>\n",
              "      <td>U dun say so early hor... U c already then say...</td>\n",
              "    </tr>\n",
              "    <tr>\n",
              "      <th>4</th>\n",
              "      <td>0</td>\n",
              "      <td>Nah I don't think he goes to usf, he lives aro...</td>\n",
              "    </tr>\n",
              "  </tbody>\n",
              "</table>\n",
              "</div>"
            ],
            "text/plain": [
              "   label                                        sms_message\n",
              "0      0  Go until jurong point, crazy.. Available only ...\n",
              "1      0                      Ok lar... Joking wif u oni...\n",
              "2      1  Free entry in 2 a wkly comp to win FA Cup fina...\n",
              "3      0  U dun say so early hor... U c already then say...\n",
              "4      0  Nah I don't think he goes to usf, he lives aro..."
            ]
          },
          "metadata": {},
          "execution_count": 54
        }
      ]
    },
    {
      "cell_type": "markdown",
      "metadata": {
        "id": "n2Qsp7_C6Prg"
      },
      "source": [
        "#### Step 2: Bag of words **(10 points)** {-}\n",
        "\n",
        "What we have in our dataset is a large collection of text data (5,572 rows/messages). Most ML algorithms rely on numerical data to be fed into them as input, but SMS messages are usually text heavy. \n",
        "\n",
        "To address this issue, we would like to introduce the concept of Bag of Words (BoW), which is designed for problems with a 'bag of words' or a collection of text data. The basic idea is to count the frequency of the words in the text. It is important to note that BoW treats each word individually, ignoring the order in which the words occur. \n",
        "\n",
        "To count the frequency of the words in text, usually we need to process the input text data in four steps:\n",
        "\n",
        "- Convert all strings into their lower case form\n",
        "- Removing all punctuations\n",
        "- Tokenization, i.e., split a sentence into individual words\n",
        "- Count frequencies\n",
        "\n",
        "Once this has been done, we are supposed to obtain a vocabulary dictionary with frequencies of each words for the given text data."
      ]
    },
    {
      "cell_type": "code",
      "metadata": {
        "colab": {
          "base_uri": "https://localhost:8080/"
        },
        "id": "Gf3M2dHK6Pri",
        "outputId": "a05c3e85-7d73-45f8-9f64-569d5fb267c3"
      },
      "source": [
        "import re\n",
        "from collections import Counter\n",
        "\n",
        "def count_frequency(documents):\n",
        "    \"\"\"\n",
        "    count occurrence of each word in the document set.\n",
        "    Inputs:\n",
        "    - documents: list, each entity is a string type SMS message\n",
        "    Outputs:\n",
        "    - frequency: a dictionary. The key is the unique words, and the value is the number of occurrences of the word\n",
        "    \"\"\"\n",
        "    \"\"\"\n",
        "    Here is the pseudo-code\n",
        "    # Step 1: covert all strings into their lower case form\n",
        "    lower_case_doc = []\n",
        "    for s in documents:\n",
        "        lower_case_doc.append(???)\n",
        "    \n",
        "    # Step 2: remove all punctuations\n",
        "    no_punc_doc = []\n",
        "    for s in lower_case_doc:\n",
        "        no_punc_doc.append(???)\n",
        "    \n",
        "    # Step 3: tokenize a sentence, i.e., split a sentence into individual words \n",
        "    # using a delimiter. The delimiter specifies what character we will use to identify the beginning \n",
        "    # and the end of a word.\n",
        "    words_doc = []\n",
        "    for s in no_punc_doc:\n",
        "        words_doc.append(???)\n",
        "    \n",
        "    # Step 4: count frequencies. To count the occurrence of each word in the document set. \n",
        "    # We can use the `Counter` method from the Python `collections` library for this purpose. \n",
        "    # `Counter` counts the occurrence of each item in the list and returns a dictionary with \n",
        "    # the key as the item being counted and the corresponding value being the count of that item in the list. \n",
        "    all_words = []\n",
        "    for s in words_doc:\n",
        "        all_words.extend(???)\n",
        "    frequency = \"some function/constructor on all_words\"\n",
        "    \"\"\"\n",
        "\n",
        "    # *****START OF YOUR CODE (DO NOT DELETE/MODIFY THIS LINE)*****\n",
        "    lower_case_doc = []\n",
        "    for s in documents:\n",
        "        lower_case_doc.append(s.lower())\n",
        "\n",
        "    no_punc_doc = []\n",
        "    for s in lower_case_doc:\n",
        "        no_punc_doc.append(re.sub(r'[^a-zA-Z0-9\\s]', '', s))\n",
        "\n",
        "    words_doc = []\n",
        "    for s in no_punc_doc:\n",
        "        words_doc.append(s.split())\n",
        "\n",
        "    all_words = []\n",
        "    for s in words_doc:\n",
        "        all_words.extend(n for n in s)\n",
        "    frequency = Counter(word for word in all_words)\n",
        "    # *****END OF YOUR CODE (DO NOT DELETE/MODIFY THIS LINE)*****\n",
        "    return frequency\n",
        "\n",
        "# Unit test case:\n",
        "# documents = ['Hello, how are you!', \n",
        "#              'Win money, win from home.',\n",
        "#              'Call me now.',\n",
        "#              'Hello, Call hello you tomorrow?']\n",
        "# sample outputs:\n",
        "# Counter({'hello': 3, 'you': 2, 'win': 2, 'call': 2, 'how': 1, 'are': 1, 'money': 1, 'from': 1, 'home': 1,\n",
        "# 'me': 1, 'now': 1, 'tomorrow': 1})\n",
        "documents = ['Hello, how are you!',\n",
        "            'Win money, win from home.',\n",
        "            'Call me now.',\n",
        "            'Hello, Call hello you tomorrow?']\n",
        "\n",
        "freq = count_frequency(documents)\n",
        "print(freq)"
      ],
      "execution_count": 55,
      "outputs": [
        {
          "output_type": "stream",
          "name": "stdout",
          "text": [
            "Counter({'hello': 3, 'you': 2, 'win': 2, 'call': 2, 'how': 1, 'are': 1, 'money': 1, 'from': 1, 'home': 1, 'me': 1, 'now': 1, 'tomorrow': 1})\n"
          ]
        }
      ]
    },
    {
      "cell_type": "markdown",
      "metadata": {
        "id": "xJ5l72qQ6Prn"
      },
      "source": [
        "#### Step 3: Create training and test sets **(5 points)** {-}\n",
        "\n",
        "We will partition the `SMSSpamCollection` dataset into training and test sets so that we can analyze the model's performance on data it has not witnessed during training. In Lab 1, we have implemented the `split_nfold()` method from scratch for data partition. In this Lab, we will learn to use the `scikit` library. `scikit` is a powerfull tool for machine learning and data mining, providing plenty of well-designed methods for data analysis. We'll use its `train_test_split()` method to create training and testing sets. In this experiment, we use 80% data for training and the remaining 20% data for testing. To ensure your results are replicable, you need to set the `random_state` argument of `train_test_split()` to **1**.\n",
        "\n",
        "There is no cross validation in this Lab."
      ]
    },
    {
      "cell_type": "code",
      "metadata": {
        "colab": {
          "base_uri": "https://localhost:8080/"
        },
        "id": "KXkkpzP46Pro",
        "outputId": "a61d393e-f3fb-433c-8422-0ffdd35fdea1"
      },
      "source": [
        "from sklearn.model_selection import train_test_split\n",
        "\n",
        "# learn to read API documentation\n",
        "# you can get detailed instructions about this method through this link:\n",
        "# https://scikit-learn.org/stable/modules/generated/sklearn.model_selection.train_test_split.html\n",
        "\n",
        "# *****START OF YOUR CODE (DO NOT DELETE/MODIFY THIS LINE)*****\n",
        "X_train, X_test,y_train,y_test = train_test_split(df['sms_message'],df['label'] ,test_size=0.2, random_state=1)\n",
        "# *****END OF YOUR CODE (DO NOT DELETE/MODIFY THIS LINE)*****\n",
        "\n",
        "print(f'The original dataset contains {df.shape[0]} examples in total.')\n",
        "print(f'The training set contains {X_train.shape[0]} examples.')\n",
        "print(f'The testing set contains {X_test.shape[0]} examples.')"
      ],
      "execution_count": 56,
      "outputs": [
        {
          "output_type": "stream",
          "name": "stdout",
          "text": [
            "The original dataset contains 5572 examples in total.\n",
            "The training set contains 4457 examples.\n",
            "The testing set contains 1115 examples.\n"
          ]
        }
      ]
    },
    {
      "cell_type": "markdown",
      "metadata": {
        "id": "MVB4Giy56Prv"
      },
      "source": [
        "### Implementing Naive Bayes method from scratch {-}\n",
        "\n",
        "#### Step 1: training the Naive Bayes Model **(16 points)** {-}\n",
        "\n",
        "Now that we know what Naive Bayes is, we can take a closer look at how to calculate the posterior probability\n",
        "$$\n",
        "P(Y|X) \\propto P(Y)\\prod_{i=1}^T P(X_i|Y).\n",
        "$$\n",
        "\n",
        "The goal of training is to learn the prior and conditional probability from data. The calculation of the prior $P(Y=y)$ is straightforward. It can be estimated via the frequency of messages in the training set that belong to class $y$, e.g.,\n",
        "$$\n",
        "P(Y=spam) = \\frac{\\# \\text{training messages in the spam category}}{\\# \\text{training messages}}.\n",
        "$$\n",
        "\n",
        "The conditional probability given the class label --- $P(X_i|Y)$ --- can also be estimated from the data by using Eq (5). As we assumed above, it is indeed independent of $i$ (i.e., shared by all $i$). We will leave it to you to translate Eq (5) into a concrete computation scheme. No pseudo-code is provided because by now you should be able to do it. However, do make sure that your implementation complies with the input and output data types as specified in the code.\n",
        "\n",
        "**Hint**: \n",
        "- `count_frequency()` can be useful for computing the conditional probability.\n",
        "- You need to apply the **pseudo-count** trick to handle with unseen words when computing the conditional probability for testing data."
      ]
    },
    {
      "cell_type": "code",
      "metadata": {
        "colab": {
          "base_uri": "https://localhost:8080/"
        },
        "id": "CATiEZSw6Prw",
        "outputId": "fe34d475-e1d1-4de3-b292-0170ab93e5f9"
      },
      "source": [
        "from collections import Counter\n",
        "import json\n",
        "def train_NB_model(X_train, y_train):\n",
        "#     \"\"\"\n",
        "#     training a naive bayes model from the training data.\n",
        "#     Inputs:\n",
        "#     - X_train: an array of shape (num_train,) which stores SMS messages. each entity is a string type SMS message\n",
        "#     - y_train: an array of shape (num_train,). the ground true label for each training data.\n",
        "#     Output:\n",
        "#     - prior: a dictionary, whose key is the class label, and value is the prior probability.\n",
        "#     - conditional: a dictionary whose key is the class label y, and value is another dictionary.\n",
        "#                    In the latter dictionary, the key is word w, and the value is the\n",
        "#                    conditional probability P(X_i = w | y).\n",
        "#     \"\"\"\n",
        "\n",
        "#     # To make your code more readable, you can implement some auxiliary functions\n",
        "#     # such as `prior_prob` and `conditional_prob` outside of this train_NB_model function\n",
        "\n",
        "#     compute the prior probability\n",
        "    prior = prior_prob(y_train)\n",
        "    \n",
        "#     # compute the conditional probability\n",
        "    conditional = conditional_prob(X_train, y_train)\n",
        "\n",
        "    return prior, conditional\n",
        "\n",
        "# Start your auxiliary functions\n",
        "    \n",
        "def prior_prob(y_train):\n",
        "    \"\"\"\n",
        "    compute the prior probability\n",
        "    Inputs:\n",
        "    - y_train: an array that stores ground true label for training data\n",
        "    Outputs:\n",
        "    - prior: a dictionary. key is the class label, value is the prior probability.\n",
        "    \"\"\"\n",
        "    # *****START OF YOUR CODE (DO NOT DELETE/MODIFY THIS LINE)*****\n",
        "    prior = Counter(y_train)\n",
        "    l = len(y_train)\n",
        "    for i in prior:\n",
        "        prior[i] = float(prior[i]/l)\n",
        "    # *****END OF YOUR CODE (DO NOT DELETE/MODIFY THIS LINE)*****   \n",
        "    return prior\n",
        "\n",
        "def conditional_prob(X_train, y_train):\n",
        "    \"\"\"\n",
        "    compute the conditional probability for a document set\n",
        "    Inputs:\n",
        "    - X_train: an array of shape (num_train,) which stores SMS messages. each entity is a string type SMS message\n",
        "    - y_train: an array of shape (num_train,). the ground true label for each training data.\n",
        "    Ouputs:\n",
        "    - cond_prob: a dictionary. key is the class label, value is a dictionary in which the key is word, the value is the conditional probability of feature x_i given y.\n",
        "    \"\"\"\n",
        "    # *****START OF YOUR CODE (DO NOT DELETE/MODIFY THIS LINE)*****\n",
        "    cond_prob ={}\n",
        "    alpha=1\n",
        "    n =20000\n",
        "    cond_prob[0] = count_frequency(X_train[y_train==0])\n",
        "    cond_prob[1] = count_frequency(X_train[y_train==1])\n",
        "    size = len(count_frequency(X_train))\n",
        "    class_zero=0\n",
        "    for i in cond_prob[0]:\n",
        "      class_zero = class_zero + cond_prob[0][i]\n",
        "    class_one=0\n",
        "    for i in cond_prob[1]:\n",
        "      class_one = class_one + cond_prob[1][i]\n",
        "    for i in cond_prob[0]:\n",
        "      cond_prob[0][i] = (cond_prob[0][i]+alpha)/(class_zero+n*alpha)\n",
        "    for i in cond_prob[1]:\n",
        "      cond_prob[1][i] = (cond_prob[1][i]+alpha)/(class_one+n*alpha)\n",
        "    cond_prob[0]['dummy'] = (alpha)/(class_zero + n*alpha)\n",
        "    cond_prob[1]['dummy'] = (alpha)/(class_one + n*alpha)\n",
        "  \n",
        "    \n",
        "    # *****END OF YOUR CODE (DO NOT DELETE/MODIFY THIS LINE)*****\n",
        "    return cond_prob\n",
        "\n",
        "\n",
        "# unit test case:\n",
        "# x_train = ['Hello, how are you!',\n",
        "#           'Win money, win from home.',\n",
        "#            'Call me now.',\n",
        "#            'Hello, Call hello you tomorrow?']\n",
        "# y_train = np.array([0,1,1,0])\n",
        "#\n",
        "# sample outputs:\n",
        "# prior: {0: 0.5, 1: 0.5}\n",
        "# conditional: {0: {'hello': 0.0001999100404817832, 'how': 9.99550202408916e-05, \n",
        "#                   'are': 9.99550202408916e-05, 'you': 0.0001499325303613374, \n",
        "#                   'call': 9.99550202408916e-05, 'tomorrow': 9.99550202408916e-05}, \n",
        "#               1: {'win': 0.00014994002399040384, 'money': 9.996001599360256e-05, \n",
        "#                   'from': 9.996001599360256e-05, 'home': 9.996001599360256e-05, \n",
        "#                   'call': 9.996001599360256e-05, 'me': 9.996001599360256e-05, \n",
        "#                   'now': 9.996001599360256e-05}}\n",
        "x_train = np.array(['Hello, how are you!',\n",
        "            'Win money, win from home.',\n",
        "            'Call me now.',\n",
        "            'Hello, Call hello you tomorrow?'])\n",
        "y_train1 = np.array([0,1,1,0])\n",
        "\n",
        "prior = prior_prob(y_train1)\n",
        "cond_prob = conditional_prob(x_train, y_train1)\n",
        "print(prior)\n",
        "print(cond_prob)\n"
      ],
      "execution_count": 57,
      "outputs": [
        {
          "output_type": "stream",
          "name": "stdout",
          "text": [
            "Counter({0: 0.5, 1: 0.5})\n",
            "{0: Counter({'hello': 0.0001999100404817832, 'you': 0.0001499325303613374, 'how': 9.99550202408916e-05, 'are': 9.99550202408916e-05, 'call': 9.99550202408916e-05, 'tomorrow': 9.99550202408916e-05, 'dummy': 4.99775101204458e-05}), 1: Counter({'win': 0.00014994002399040384, 'money': 9.996001599360256e-05, 'from': 9.996001599360256e-05, 'home': 9.996001599360256e-05, 'call': 9.996001599360256e-05, 'me': 9.996001599360256e-05, 'now': 9.996001599360256e-05, 'dummy': 4.998000799680128e-05})}\n"
          ]
        }
      ]
    },
    {
      "cell_type": "markdown",
      "metadata": {
        "id": "EdPoLF0-6Pr2"
      },
      "source": [
        "#### Step 2: predict label for test data **(16 points)** {-}\n",
        "\n",
        "Once we have the two models $P(Y)$ and $P(X_i|Y)$ from *training*, we can use them to predict the label for a given test message. To this end, we need to compute the probability of all possible labels, and then predict the one with maximum probability value:\n",
        "$$\n",
        "\\arg\\max_Y P(Y)\\prod_{i=1}^T P(X_i|Y). \\tag{6}\n",
        "$$\n",
        "\n",
        "**Avoid numerical underflow with log-trick.**\n",
        "As shown in the above equation, the calculation involves multiplying many probabilities together. Since probabilities lie in $(0,1]$, multiplying many of them together can lead to numerical underflow (i.e., a floating point number close to 0 gets rounded down to 0 by a computer), especially when $T$ is large, i.e., the test message is long.\n",
        "\n",
        "To overcome this problem, it is common to change the calculation from the product of probabilities to the sum of log probabilities. \n",
        "That is, take the natual logarithm of the right-hand side of Eq (6) as\n",
        "$$\n",
        "g_Y(X) = \\log P(Y) + \\sum_{i=1}^T \\log P(X_i|Y). \\tag{7}\n",
        "$$\n",
        "It is much more numerically stable to compute $g_Y(X)$ and to take $\\arg\\max_Y g_Y(X)$ to find the most likely class label (as the output prediction). \n",
        "\n",
        "With $g_Y(X)$, we can easily compute the posterior probability by\n",
        "$$\n",
        "P(Y|X) = \\frac{\\exp (g_Y(X) - m)}{\\sum_y \\exp (g_y(X)-m)},\n",
        "\\text{ where  }\n",
        "m = \\max_y g_y(X).\n",
        "$$\n",
        "In our message classification problem, the summation in the denominator is just over `positive` and `negative`.\n",
        "Note we subtract by $m$, which does not change the result because the numerator and denominator cancel.\n",
        "However it is numerically useful because sometimes all $g_Y(X)$ are overly small and can cause numerical underflow inside exponentiation.\n",
        "By subtracting $m$, $g_Y(X) - m$ will be 0 (properly scaled) for at least one value of $Y$, and be negative for the other.  And even if another $y$ still suffers underflow in exponentiating $g_y(X)-m$, the posterior probabilities will still be correct.\n",
        "\n",
        "Again, you are expected to implement Eq (7) and loop over all test examples by yourself with no pseudo-code given."
      ]
    },
    {
      "cell_type": "code",
      "metadata": {
        "colab": {
          "base_uri": "https://localhost:8080/"
        },
        "id": "5iDZ9QpB6Pr4",
        "outputId": "a565c559-d15e-4573-ca42-cf1ab95208ba"
      },
      "source": [
        "from scipy.special import softmax\n",
        "def predict_label(X_test, prior_prob, cond_prob):\n",
        "    \"\"\"\n",
        "    predict the class labels for the testing set\n",
        "    Inputs:\n",
        "    - X_test: an array of shape (num_test,) which stores test data. \n",
        "              Each entity is a string type SMS message.\n",
        "    - prior_prob: a dictionary which stores the prior probability for all categories\n",
        "              We previously used \"prior_prob\" as the name of function.  \n",
        "              Here it is used as a dictionary name.  No confusion should arise.\n",
        "    - cond_prob: a dictionary whose key is the class label y, and value is another dictionary.\n",
        "                   In the latter dictionary, the key is word w, and the value is the\n",
        "                   conditional probability P(X_i = w | y).\n",
        "    Outputs:\n",
        "    - predict: an array that stores predicted labels\n",
        "    - test_prob: an array of shape (num_test, num_classes) which stores the posterior probability of each class\n",
        "    \"\"\"\n",
        "\n",
        "    # *****START OF YOUR CODE (DO NOT DELETE/MODIFY THIS LINE)*****\n",
        "    predict=np.zeros(X_test.size, dtype=int)\n",
        "    g = np.zeros(2)\n",
        "    test_prob = np.zeros((X_test.size, 2))\n",
        "    count = 0\n",
        "    for i in X_test:\n",
        "      \n",
        "      words = count_frequency(i.split())\n",
        "      for i in range(0,2):\n",
        "        g[i] = compute_test_prob(words , prior_prob[i] , cond_prob[i])\n",
        "        predict[count] = np.argmax(g)\n",
        "      \n",
        "      test_prob[count][0] = np.exp(g[0] - g[predict[count]]) / (np.exp(g[0]-g[predict[count]])+np.exp(g[1]-g[predict[count]]))\n",
        "      test_prob[count][1] = np.exp(g[1] - g[predict[count]]) / (np.exp(g[0]-g[predict[count]])+np.exp(g[1]-g[predict[count]]))\n",
        "      count = count + 1 \n",
        "    \n",
        "    # *****END OF YOUR CODE (DO NOT DELETE/MODIFY THIS LINE)*****\n",
        "    return predict, test_prob\n",
        "\n",
        "def compute_test_prob(word_count, prior_cat, cond_cat):\n",
        "    \"\"\"\n",
        "    predict the class label for one test example\n",
        "    Inputs:\n",
        "    - word_count: a dictionary which stores the frequencies of each word in a SMS message. \n",
        "                  Key is the word, value is the number of its occurrence in that message\n",
        "    - prior_cat: a scalar. prior probability of a specific category\n",
        "    - cond_cat: a dictionary. conditional probability of a specific category\n",
        "    Outputs:\n",
        "    - prob: posterior probability of a specific category for the test example\n",
        "    \"\"\"\n",
        "    # *****START OF YOUR CODE (DO NOT DELETE/MODIFY THIS LINE)*****\n",
        "    alpha = 1 \n",
        "    n=20000\n",
        "    prob=np.log(prior_cat)\n",
        "    for i in word_count:\n",
        "      if i in cond_cat:\n",
        "        prob = prob + np.log(cond_cat[i])*word_count[i]\n",
        "      else:\n",
        "        prob = prob + np.log(cond_cat['dummy'])*word_count[i]\n",
        "\n",
        "\n",
        "    # *****END OF YOUR CODE (DO NOT DELETE/MODIFY THIS LINE)*****\n",
        "    return prob\n",
        "\n",
        "# unit test case:\n",
        "# x_test = np.array(['Hello, how are you!'])\n",
        "# sample outputs:\n",
        "# y_pred: [0] \n",
        "# prob: [[0.92298104 0.07701896]]\n",
        "x_test = np.array(['Hi, how are you today!'])\n",
        "y_pred, test_prob = predict_label(x_test, prior, cond_prob)\n",
        "print(\"y_pred\",y_pred)\n",
        "print(\"prob:\",test_prob)"
      ],
      "execution_count": 58,
      "outputs": [
        {
          "output_type": "stream",
          "name": "stdout",
          "text": [
            "y_pred [0]\n",
            "prob: [[0.92305918 0.07694082]]\n"
          ]
        }
      ]
    },
    {
      "cell_type": "markdown",
      "metadata": {
        "id": "QINYf3KB6Pr-"
      },
      "source": [
        "#### Step 3: compute performance metrics **(5 points)** {-}\n",
        "You may have noticed that the classes are heavily imbalanced. There are only 747 `spam` messages, compared with 4827 `ham` messages. If a classifier simply predicts all messages as `ham`, it will get around 86% accuracy (pretty high). Therefore, accuracy is not a good metric in this case for evaluating the performance of the classifier. As we did before, we can use F-score metrics. But this time we will not implement it from the scratch. Instead, we will learn how to use the builtin methods from `scikit`. [Here](https://scikit-learn.org/stable/modules/model_evaluation.html#classification-metrics) is a summary of well-implemented and commonly used metrics for evaluating the quality of a model's predictions. \n",
        "\n",
        "In this task, you need to **report** the testing accuracy, confusion matrix, and F1 score of the Naive Bayes method by choosing proper functions from `scikit` to compute those metrics with required arguments.\n",
        "\n",
        "Hint: you need to import methods from `sklearn.metrics` before using them."
      ]
    },
    {
      "cell_type": "code",
      "metadata": {
        "colab": {
          "base_uri": "https://localhost:8080/"
        },
        "id": "Wb58oHwb6PsA",
        "outputId": "0999eeb3-fa5d-4b07-d1a9-e1854198c4d5"
      },
      "source": [
        "import sklearn.metrics\n",
        "from sklearn.metrics import confusion_matrix\n",
        "from sklearn.metrics import accuracy_score\n",
        "from sklearn.metrics import f1_score\n",
        "def compute_metrics(y_pred, y_true):\n",
        "    \"\"\"\n",
        "    compute the performance metrics\n",
        "    Inputs:\n",
        "    - y_pred: an array of predictions\n",
        "    - y_true: an array of ground true labels\n",
        "    Outputs:\n",
        "    - acc: accuracy\n",
        "    - cm: confusion matrix\n",
        "    - f1: f1_score\n",
        "    \"\"\"\n",
        "    # *****START OF YOUR CODE (DO NOT DELETE/MODIFY THIS LINE)*****\n",
        "\n",
        "    cm = confusion_matrix(y_true, y_pred)\n",
        "    acc = accuracy_score(y_true, y_pred)\n",
        "    f1 = f1_score(y_true, y_pred)\n",
        "    # *****END OF YOUR CODE (DO NOT DELETE/MODIFY THIS LINE)*****\n",
        "    return acc, cm, f1\n",
        "\n",
        "# unit test case:\n",
        "# y_pred = np.array([0,1,1,1,0,1])\n",
        "# y_true = np.array([0,1,0,0,1,1])\n",
        "# \n",
        "# sample outputs:\n",
        "# acc: 0.5 \n",
        "# cm: [[1 2]\n",
        "#      [1 2]] \n",
        "# f1: 0.5714285714285715\n",
        "y_pred = np.array([0,1,1,1,0,1])\n",
        "y_true = np.array([0,1,0,0,1,1])\n",
        "acc, cm, f1 = compute_metrics(y_pred, y_true)\n",
        "print(acc, cm, f1)"
      ],
      "execution_count": 59,
      "outputs": [
        {
          "output_type": "stream",
          "name": "stdout",
          "text": [
            "0.5 [[1 2]\n",
            " [1 2]] 0.5714285714285715\n"
          ]
        }
      ]
    },
    {
      "cell_type": "markdown",
      "metadata": {
        "id": "mZLTG_uros32"
      },
      "source": [
        "#### Step 4: Plot ROC curve and print other results **(10 points)** {-}\n",
        "\n",
        "ROC (Receiver Operating Characteristics) curve is one of the most commonly used metrics for evaluating the performance of machine learning algorithms, especially when the classes are imbalanced.\n",
        "\n",
        "ROC is a probability curve for different classes. ROC tells us how good the model is for distinguishing the given classes, in term of the **predicted probability** (not the final hard label in pos/neg). A typical ROC curve has False Positive Rate (FPR) on the $x$-axis and True Positive Rate (TPR) on the $y$-axis. To obtain the FPR and TPR, you can use the `roc_curve` method from `scikit`. This `roc_curve` function takes two arguments: 1) the ground truth labels of the test examples, and 2) the predicted probability that each example is positive. It returns the FPR and TPR which can be used for plotting.\n",
        "\n",
        "You can even compute the area under the curve (AUC) by calling `roc_auc_score` which takes the same arguments as `roc_curve` required.\n",
        "\n",
        "In this task, **plot** the ROC curve and compute the AUC score."
      ]
    },
    {
      "cell_type": "code",
      "metadata": {
        "colab": {
          "base_uri": "https://localhost:8080/",
          "height": 330
        },
        "id": "6DiYOIdIo7F7",
        "outputId": "339c991f-6b48-4ae4-a445-44649ef7976b"
      },
      "source": [
        "from sklearn.metrics import roc_curve, roc_auc_score\n",
        "import sklearn\n",
        "\n",
        "def plot_roc_curve(fpr, tpr):\n",
        "  plt.plot(fpr, tpr, color='blue', label='ROC')\n",
        "  plt.plot([0, 1], [0, 1], color='black', linestyle='--')\n",
        "  plt.xlabel('FPR')\n",
        "  plt.ylabel('TPR')\n",
        "  plt.title('ROC Curve')\n",
        "  plt.legend()\n",
        "  plt.show()\n",
        "\n",
        "# We now compute the test performance.\n",
        "# X_train, X_test, y_train, y_test are the same as above\n",
        "\n",
        "# training naive Bayes model \n",
        "prior, cond = train_NB_model(X_train, y_train)\n",
        "\n",
        "# evaluate on test set\n",
        "y_pred, prob = predict_label(X_test, prior, cond)\n",
        "\n",
        "# Implement the following:\n",
        "#   1. compute the fpr and tpr for roc curve using the probability of being positive\n",
        "#   2. compute the auc score\n",
        "#   3. plot roc curve by calling the plot_roc_curve() method\n",
        "#   4. print AUC score, test accuracy, F-score, and Confusion matrix\n",
        "\n",
        "# *****START OF YOUR CODE (DO NOT DELETE/MODIFY THIS LINE)*****    \n",
        "fpr, tpr, thres = roc_curve(y_test, y_pred)\n",
        "auc = roc_auc_score(y_test, np.array(prob)[:,1])\n",
        "plot_roc_curve(fpr, tpr)\n",
        "acc, cm, f1 = compute_metrics(y_pred, y_test)\n",
        "print(auc, acc, f1, cm)\n",
        "# *****END OF YOUR CODE (DO NOT DELETE/MODIFY THIS LINE)*****"
      ],
      "execution_count": 60,
      "outputs": [
        {
          "output_type": "display_data",
          "data": {
            "image/png": "[encoded data removed]",
            "text/plain": [
              "<Figure size 432x288 with 1 Axes>"
            ]
          },
          "metadata": {
            "needs_background": "light"
          }
        },
        {
          "output_type": "stream",
          "name": "stdout",
          "text": [
            "0.9817141732726148 0.9865470852017937 0.9473684210526316 [[965   3]\n",
            " [ 12 135]]\n"
          ]
        }
      ]
    },
    {
      "cell_type": "markdown",
      "metadata": {
        "id": "iJoS8gz6ZXfV"
      },
      "source": [
        "# Problem 2: Linear regression **(38 points)** {-}\n",
        "\n",
        "In this section, we will explore linear regression model. The dataset we will use for this section is Wine Qualuty, whose description can be found [here](http://archive.ics.uci.edu/ml/datasets/Wine+Quality). This dataset contains **4898** examples, each containing **11** features (the first 11 columns), and the **last** (12-th) column is the value we want to predict. The dataset can be downloaded here [`winequality-white.csv`](https://www.cs.uic.edu/~zhangx/teaching/winequality-white.csv) (our code will download it directly). \n",
        "\n",
        "Different from classification models, a regression model is used to predict real values rather than the category an example belongs to. Linear regression is a linear approach to modeling the relationship between features and real value target. To perform supervised learning, we represent the hypothesis as a linear function of features ($x$) to predict the output ($y$).\n",
        "\n",
        "\\begin{equation}\n",
        "f(x) = \\theta_0 + \\theta_1x_1 + ... + \\theta_nx_n    \\tag{8}\n",
        "\\end{equation}\n",
        "\n",
        "Here $\\theta_i$'s are the **parameters** parameterizing the space of linear functions mapping from $\\mathcal{X}$ to $\\mathcal{Y}$. Our goal is to **learn** these parameters so that we can find a linear function in this hypothesis space to estimate the output $y$.\n",
        "\n",
        "To simplify the notation and ease the computation, we **pad** the input $x$ by letting $x_0=1$. That is, for an example with three features $x=[x_1, x_2, x_3]$, the padded feature vector will be $x=[1,x_1, x_2, x_3]$. Then, the linear function can be written as:\n",
        "\n",
        "\\begin{equation}\n",
        "f_\\theta(x) = \\sum_{j=0}^n \\theta_j x_j = \\theta^\\top x    \\tag{9}\n",
        "\\end{equation}\n",
        "where on the right-hand side above we are viewing $\\theta$ and $x$ both as vectors, and here $n = 11$ is the number of features. \n",
        "\n",
        "Given a training set, the way to learn these parameters is to make $f_\\theta(x)$ close to $y$. To measure the closeness, we use Mean-Squared-Error (MSE) here. The loss function can therefore be defined as:\n",
        "\n",
        "\\begin{equation}\n",
        "L(\\theta) = \\frac{1}{2m}\\sum_{i=1}^m(f_\\theta(x^{(i)})-y^{(i)})^2 = \\frac{1}{2m}\\sum_{i=1}^m(\\theta^\\top x^{(i)}-y^{(i)})^2,  \\tag{10}\n",
        "\\end{equation}\n",
        "where the superscript $(i)$ denotes the $i$-th example, \n",
        "and $m$ is the total number of training samples. To learn the parameter $\\theta$, our goal is to **minimize** the above loss function. In this lab, we will explore two different methods to learn the parameter: \n",
        "\n",
        "1. Gradient descent\n",
        "2. Closed-form solution (root of the gradient)\n",
        "\n",
        "## 2.1 Data preprocessing {-}\n",
        "\n",
        "Once we have received the dataset, we first need to preprocess it.  Very often, the features in a dataset are of very different scale, which can slow down the optimization for Eq (10). To accelerate it, we need to normalize each feature by substracting its mean value, and then dividing by its standard deviation (std). Assuming $X_i = [x_i^{(1)}, ... , x_i^{(m)}]$ is the $i$-th feature in the training set (across the $m$ examples), the normalized feature $i$ for the $j$-th training example can be computed by:\n",
        "\\begin{equation}\n",
        "\\hat{x}^j_i = \\frac{x^j_i - m_i}{s_i},\n",
        "\\text{ where } m_i = mean(X_i), \\text{ and } s_i = std(X_i).\n",
        "  \\tag{11}\n",
        "\\end{equation}"
      ]
    },
    {
      "cell_type": "markdown",
      "metadata": {
        "id": "sQ3aIqTn4QSt"
      },
      "source": [
        "**Step 1: normalize the training set (3 points)** {-}\n",
        "\n",
        "In the following code block, implement a function `featureNormalization`. The input is the training set. The output is the normalized training set, along with the mean and std of each features. You will need the mean and std to apply to the test set later."
      ]
    },
    {
      "cell_type": "code",
      "metadata": {
        "id": "eyuuNjr8KITJ",
        "colab": {
          "base_uri": "https://localhost:8080/"
        },
        "outputId": "f649261d-2286-4bb3-b701-14fbc0389829"
      },
      "source": [
        "import numpy as np\n",
        "import matplotlib.pyplot as plt\n",
        "def featureNormalization(X):\n",
        "  \"\"\"\n",
        "  Normalize each feature for the input set\n",
        "  Input:\n",
        "  - X: a 2-D numpy array of shape (num_train, num_features)\n",
        "  Outputs:\n",
        "  - X_normalized: a 2-D numpy array of shape (num_train, num_features)\n",
        "  - X_mean: a 1-D numpy array of length (num_features)\n",
        "  - X_std: a 1-D numpy array of length (num_features)\n",
        "  \"\"\"\n",
        "  # *****START OF YOUR CODE (DO NOT DELETE/MODIFY THIS LINE)*****\n",
        "  X_mean = np.mean(X, axis = 0)\n",
        "  X_std = np.std(X, axis = 0)\n",
        "  X_normalized = (X - X_mean) / X_std\n",
        "  # *****END OF YOUR CODE (DO NOT DELETE/MODIFY THIS LINE)*****\n",
        "  \n",
        "  return X_normalized, X_mean, X_std\n",
        "\n",
        "\"\"\"\n",
        " Unit test case\n",
        " Should print\n",
        "[[ 0.49109521 -0.40242644 -0.92156595 -0.1052653 ]\n",
        " [ 0.90298151  1.37532553  1.3897809   1.27398003]\n",
        " [-1.39407672 -0.97289909 -0.46821496 -1.16871473]]\n",
        "[0.99 3.12 4.47 4.51]\n",
        "[0.63124216 2.26128282 1.34553583 3.70492465]\n",
        "\"\"\"\n",
        "X = np.array([[1.30,2.21,3.23,4.12], [1.56, 6.23, 6.34, 9.23], [0.11, 0.92, 3.84, 0.18]])\n",
        "X_normalized, X_mean, X_std = featureNormalization(X)\n",
        "print(X_normalized)\n",
        "print(X_mean)\n",
        "print(X_std)"
      ],
      "execution_count": 61,
      "outputs": [
        {
          "output_type": "stream",
          "name": "stdout",
          "text": [
            "[[ 0.49109521 -0.40242644 -0.92156595 -0.1052653 ]\n",
            " [ 0.90298151  1.37532553  1.3897809   1.27398003]\n",
            " [-1.39407672 -0.97289909 -0.46821496 -1.16871473]]\n",
            "[0.99 3.12 4.47 4.51]\n",
            "[0.63124216 2.26128282 1.34553583 3.70492465]\n"
          ]
        }
      ]
    },
    {
      "cell_type": "markdown",
      "metadata": {
        "id": "op0kAryrPYgU"
      },
      "source": [
        "**Step 2: normalize the test set (3 points)** {-}\n",
        "\n",
        "The above normalization function will be used for the training set. At test time, we will need to normalize the test data in the same way. However, we shouldn't compute new mean and std from the test set itself, because it may be inconsistent with the training data.  Instead, we will apply the mean $m_i$ and std $s_i$ computed from the training set.  Given a text example $[x_1, \\ldots, x_m]$, we just transform $x_i$ into $(x_i - m_i)/s_i$,\n",
        "where $m_i$ and $s_i$ are computed from the training data as in the *where* clause of Eq (11).\n",
        "\n",
        "In the following code block, implement a function `applyNormalization`, which normalizes the test set for each feature using the provided mean and std."
      ]
    },
    {
      "cell_type": "code",
      "metadata": {
        "id": "NWuTPf6yTSaC",
        "colab": {
          "base_uri": "https://localhost:8080/"
        },
        "outputId": "74ad15c9-1ba4-48cd-f681-17c49e38530c"
      },
      "source": [
        "def applyNormalization(X, X_mean, X_std):\n",
        "  \"\"\"\n",
        "  Normalize each feature for the input set X\n",
        "  Input:\n",
        "  - X: a 2-D numpy array of shape (num_test, num_features)\n",
        "  - X_mean: a 1-D numpy array of length (num_features)\n",
        "  - X_std: a 1-D numpy array of length (num_features)\n",
        "\n",
        "  Output:\n",
        "  - X_normalized: a 2-D numpy array of shape (num_test, num_features)  \n",
        "  \"\"\"\n",
        "\n",
        "  # *****START OF YOUR CODE (DO NOT DELETE/MODIFY THIS LINE)*****\n",
        "  X_normalized = (X - X_mean) / X_std       \n",
        "  # *****END OF YOUR CODE (DO NOT DELETE/MODIFY THIS LINE)*****\n",
        "\n",
        "  return X_normalized\n",
        "\n",
        "\"\"\"\n",
        "Unit test case\n",
        "Should print\n",
        "[[ 3.00e-01  1.21e+00  6.15e-01  4.02e+01]\n",
        " [ 5.60e-01  5.23e+00  2.17e+00  9.13e+01]\n",
        " [-8.90e-01 -8.00e-02  9.20e-01  8.00e-01]]\n",
        "\"\"\"\n",
        "X =  np.array([[1.30,2.21,3.23,4.12], [1.56, 6.23, 6.34, 9.23], [0.11, 0.92, 3.84, 0.18]])\n",
        "X_mean = np.array([1.0, 1.0, 2.0, 0.1])\n",
        "X_std = np.array([1.0, 1.0, 2.0, 0.1])\n",
        "X_normalized = applyNormalization(X, X_mean, X_std)\n",
        "print(X_normalized)"
      ],
      "execution_count": 62,
      "outputs": [
        {
          "output_type": "stream",
          "name": "stdout",
          "text": [
            "[[ 3.00e-01  1.21e+00  6.15e-01  4.02e+01]\n",
            " [ 5.60e-01  5.23e+00  2.17e+00  9.13e+01]\n",
            " [-8.90e-01 -8.00e-02  9.20e-01  8.00e-01]]\n"
          ]
        }
      ]
    },
    {
      "cell_type": "markdown",
      "metadata": {
        "id": "oVAlHwT_Ts_l"
      },
      "source": [
        "##2.2 Gradient Descent {-}\n",
        "\n",
        "In this section, you will need to implement the gradient descent algorithm that trains the linear regression model. Some introductions to gradient descent can be found [here](https://ml-cheatsheet.readthedocs.io/en/latest/gradient_descent.html)."
      ]
    },
    {
      "cell_type": "markdown",
      "metadata": {
        "id": "qP3V48YIt_yo"
      },
      "source": [
        "**Step 1: implement the loss function (3 points)** {-} \n",
        "\n",
        "As introduced at the begining of this problem, we will use MSE to measure the loss. In the following code block, implement a function `computeMSE`. Follow Equation (10), and the function should compute the MSE for the input set with the given $\\theta$."
      ]
    },
    {
      "cell_type": "code",
      "metadata": {
        "id": "o_I9hUncTPMU",
        "colab": {
          "base_uri": "https://localhost:8080/"
        },
        "outputId": "84b2f276-4a54-40d8-e9a6-b64025a9b17d"
      },
      "source": [
        "def computeMSE(X, y, theta):\n",
        "  \"\"\"\n",
        "  Compute MSE for the input set (X,y) with theta\n",
        "  Inputs:\n",
        "  - X: a 2-D numpy array of shape (num_samples, num_features+1)\n",
        "  - y: a 1-D numpy array of length (num_samples)\n",
        "  - theta: a 1-D numpy array of length (num_features+1)\n",
        "  Output:\n",
        "  - error: MSE, a real number\n",
        "  \"\"\"\n",
        "  # *****START OF YOUR CODE (DO NOT DELETE/MODIFY THIS LINE)*****\n",
        "  squared_error = np.power(X.dot(theta) - y,2)\n",
        "\n",
        "  error = (np.mean(squared_error, axis = 0)) / 2\n",
        "  # *****END OF YOUR CODE (DO NOT DELETE/MODIFY THIS LINE)*****\n",
        "  \n",
        "  return error[0]\n",
        "\n",
        "# Unit test case:\n",
        "# Should print 73.0\n",
        "X = np.array([[2.0, 1.0, 3.0], [3.0, 6.0, 2.0]])\n",
        "y =  np.array([1.0, 1.0])\n",
        "theta = np.array([[1.0], [2.0],[1.0]])\n",
        "error = computeMSE(X, y, theta)\n",
        "print(error)"
      ],
      "execution_count": 63,
      "outputs": [
        {
          "output_type": "stream",
          "name": "stdout",
          "text": [
            "73.0\n"
          ]
        }
      ]
    },
    {
      "cell_type": "markdown",
      "metadata": {
        "id": "eXvZOOiCVyaS"
      },
      "source": [
        "**Step 2: compute the gradient of the loss function (7 points)** {-} \n",
        "\n",
        "Recall that our goal is to find the parameter $\\theta$ that can minimize the loss $L(\\theta)$. To find the $\\theta$ with gradient descent method, we start from some initial $\\theta$, and then repeatedly perform the update:\n",
        "\\begin{equation}\n",
        "\\theta = \\theta - \\alpha\\nabla_{\\theta}L(\\theta).    \\tag{12}\n",
        "\\end{equation}\n",
        "\n",
        "Here $\\alpha > 0$ is a step size, a.k.a., learning rate.\n",
        "To enable this update rule, we first need to compute the gardient in $\\theta$. \n",
        "\n",
        "1. Please derive the gradient of $\\theta$ from Eq (10), and type the result in the following line:\n",
        "\n",
        "$$\n",
        "\\nabla_{\\theta}L(\\theta) = \n",
        "$$\n",
        "\n",
        "Note for computational efficiency, your expression is not allowed to have $\\sum_{i=1}^m$, and cannot have any multiplication of two matrices.  Multiplications of a matrix and a vector is allowed. Here is a hint.  Let $a_i$ and $b_i$ be vectors.  Then\n",
        "$$\n",
        "  \\sum_i (\\theta^\\top b_i) a_i = \\sum_i a_i (b_i^\\top \\theta) = \\left(\\sum_i a_i b_i^\\top \\right) \\theta = (A B^\\top) \\theta = A (B^\\top \\theta),\n",
        "$$\n",
        "where $A = [a_1, ..., a_m]$ and $B = [b_1, ..., b_m]$.\n",
        "\n",
        "2. Then, implement a function `computeGradient` to compute the gradient $\\nabla_{\\theta}L(\\theta)$ by following the expression you just derived above."
      ]
    },
    {
      "cell_type": "code",
      "metadata": {
        "id": "9nTxP7YJaCo6",
        "colab": {
          "base_uri": "https://localhost:8080/"
        },
        "outputId": "4aacf1c8-f8d5-4a47-ccf7-a695ad74558c"
      },
      "source": [
        "def computeGradient(X, y, theta):\n",
        "  \"\"\"\n",
        "  Compute the gradient of theta\n",
        "  Inputs:\n",
        "  - X: A 2-D numpy array of shape (num_train, num_features+1)\n",
        "  - y: A 1-D numpy array of length (num_train)\n",
        "  - theta: A 1-D numpy array of length (num_features+1)\n",
        "  Output:\n",
        "  - gradient: A 1-D numpy array of length (num_features+1)\n",
        "  \"\"\"\n",
        "\n",
        "  # *****START OF YOUR CODE (DO NOT DELETE/MODIFY THIS LINE)*****\n",
        "  m=len(y)\n",
        "  y= y.reshape((m,1))\n",
        "  \n",
        "  gradient = X.transpose().dot((X.dot(theta)-y)/m)\n",
        "  # *****END OF YOUR CODE (DO NOT DELETE/MODIFY THIS LINE)*****\n",
        "\n",
        "  return gradient\n",
        "\n",
        "\"\"\"\n",
        "# Unit test case:\n",
        "# Should return\n",
        "[[30.]\n",
        " [51.]\n",
        " [25.]]\n",
        "\"\"\" \n",
        "X = np.array([[2.0, 1.0, 3.0], [3.0, 6.0, 2.0]])\n",
        "y =  np.array([1.0, 1.0])\n",
        "theta = np.array([[1.0], [2.0],[1.0]])\n",
        "gradient = computeGradient(X, y, theta)\n",
        "print(gradient)"
      ],
      "execution_count": 64,
      "outputs": [
        {
          "output_type": "stream",
          "name": "stdout",
          "text": [
            "[[30.]\n",
            " [51.]\n",
            " [25.]]\n"
          ]
        }
      ]
    },
    {
      "cell_type": "markdown",
      "metadata": {
        "id": "8BCElx6TayKV"
      },
      "source": [
        "**Step 3: implement the gradient descent algorithm (4 points)** {-} \n",
        "\n",
        "Now we can use the update rule in Equation (12) to find the $\\theta$ that minimizes $L(\\theta)$. We start from some initial $\\theta_0$, then repeatedly take a step in the direction of steepest decrease of $L$. The $\\alpha$ in Equation (12) indicates how large the step we want to take at every update. We repeat the updates for a certain number of iterations, and the last updated $\\theta$ will be the $\\theta$ we find.\n",
        "In the following code block, implement a function `gradientDescent`, which updates $\\theta$ for `num_iters` times and records the loss value (MSE) at every iteration."
      ]
    },
    {
      "cell_type": "code",
      "metadata": {
        "id": "lcmwpVi3fOoA",
        "colab": {
          "base_uri": "https://localhost:8080/"
        },
        "outputId": "577e0ffc-992f-47a8-9e58-be46f40e355e"
      },
      "source": [
        "def gradientDescent(X, y, theta, alpha, num_iters):\n",
        "  \"\"\"\n",
        "  Update theta using equation (5) for num_iters times.\n",
        "  Input: \n",
        "  - X: a numpy array of shape (num_train, num_features+1)\n",
        "  - y: a numpy array of shape (num_train, 1)\n",
        "  - theta: a 1-D numpy array of length (num_features+1)\n",
        "  - alpha: learning rate, a scalar\n",
        "  - num_iters: an integer specifying how many steps to run the gradient descent\n",
        "  Outputs:\n",
        "  - theta: the final theta, a 1-D numpy array of length (num_features+1). \n",
        "           You can directly overwrite the theta in the input argument, and return it.\n",
        "  - Loss_record: a 1-D numpy array of length (num_iters), \n",
        "          recording the loss value of Eq (10) at every iteration, \n",
        "  \"\"\"\n",
        "  # *****START OF YOUR CODE (DO NOT DELETE/MODIFY THIS LINE)*****\n",
        "  Loss_record = []\n",
        "  for i in range(0, num_iters):\n",
        "    gradient = computeGradient(X, y, theta)\n",
        "    theta = theta - alpha * gradient\n",
        "    Loss_record = np.append(Loss_record, computeMSE(X, y, theta))\n",
        "  # *****END OF YOUR CODE (DO NOT DELETE/MODIFY THIS LINE)*****\n",
        "  return theta, Loss_record\n",
        "\n",
        "\"\"\"\n",
        "# Unit test case:\n",
        "# Should return\n",
        "[[0.3322825]\n",
        " [0.858839 ]\n",
        " [0.446925 ]]\n",
        "[37.5778     19.36559064 10.00046345]\n",
        "\"\"\"\n",
        "X = np.array([[2.0, 1.0, 3.0], [3.0, 6.0, 2.0]])\n",
        "y =  np.array([1.0, 1.0])\n",
        "theta = np.array([[1.0], [2.0],[1.0]])\n",
        "alpha = 0.01\n",
        "num_iters = 3\n",
        "theta, Loss_record = gradientDescent(X, y, theta, alpha, num_iters)\n",
        "print(theta)\n",
        "print(Loss_record)"
      ],
      "execution_count": 65,
      "outputs": [
        {
          "output_type": "stream",
          "name": "stdout",
          "text": [
            "[[0.3322825]\n",
            " [0.858839 ]\n",
            " [0.446925 ]]\n",
            "[37.5778     19.36559064 10.00046345]\n"
          ]
        }
      ]
    },
    {
      "cell_type": "markdown",
      "metadata": {
        "id": "lvegb8zigFpe"
      },
      "source": [
        "## 2.3 Train the linear regression model with gradient descent {-}\n",
        "\n",
        "Now we are ready to chain all the above functions together to perform the linear regression training on the Wine Quality dataset. \n",
        "\n",
        "**Step 1: load the data (not for grading)**\n",
        "\n",
        "The last column of the resulting \"data\" variable is the label.  Read the first row of the downloaded winequality-white.csv for more descriptions of the columns."
      ]
    },
    {
      "cell_type": "code",
      "metadata": {
        "id": "0kiPKQ9XHDfg",
        "colab": {
          "base_uri": "https://localhost:8080/"
        },
        "outputId": "1e80420d-d80f-4926-9c17-6ccc59bd83e6"
      },
      "source": [
        "# First load the data (this code block is not for grading)\n",
        "\n",
        "import urllib.request\n",
        "import shutil\n",
        "\n",
        "url = 'https://www.cs.uic.edu/~zhangx/teaching/winequality-white.csv'\n",
        "file_name = 'winequality-white.csv'\n",
        "with urllib.request.urlopen(url) as response, open(file_name, 'wb') as out_file:\n",
        "    shutil.copyfileobj(response, out_file)\n",
        "\n",
        "data = np.genfromtxt(file_name, delimiter=\";\", skip_header=1)\n",
        "print(data.shape)"
      ],
      "execution_count": 66,
      "outputs": [
        {
          "output_type": "stream",
          "name": "stdout",
          "text": [
            "(4898, 12)\n"
          ]
        }
      ]
    },
    {
      "cell_type": "markdown",
      "metadata": {
        "id": "u-0vYx8MJX7c"
      },
      "source": [
        "**Step 2: training and testing (7 points)**\n",
        "\n",
        "After loading the dataset, split the dataset into training and test sets. Please split the first **4000** samples as training set and the rest as test set. Then perform the following:\n",
        "\n",
        "*   Normalize training set features\n",
        "*   Pad the normalized training features by a constant 1, as the new first feature\n",
        "*   Initialize $\\theta$ as a zero vector\n",
        "*   Update $\\theta$ using gradient descent (`num_iters` and `alpha` are provided)\n",
        "*   **Plot** a figure where $x$-axis is the number of iterations, $y$-axis is the loss value (MSE).\n",
        "*   Apply normalization to test set features, pad the features\n",
        "*   Compute the test error (MSE) and **print** out the test error"
      ]
    },
    {
      "cell_type": "code",
      "metadata": {
        "id": "fYbVsdEbj2By",
        "colab": {
          "base_uri": "https://localhost:8080/",
          "height": 296
        },
        "outputId": "cdfca00c-6d93-4730-d014-ffa0f27f812d"
      },
      "source": [
        "\n",
        "num_train = 4000\n",
        "alpha = 0.01\n",
        "num_iters = 500\n",
        "\n",
        "# *****START OF YOUR CODE (DO NOT DELETE/MODIFY THIS LINE)*****\n",
        "from sklearn.model_selection import train_test_split\n",
        "from sklearn.preprocessing import Normalizer\n",
        "from sklearn.preprocessing import StandardScaler\n",
        "X = data[:,0:11]\n",
        "y = data[:,11]\n",
        "X_train, X_test, y_train, y_test = train_test_split(X, y, train_size=0.8167,random_state=1)\n",
        "\n",
        "X_train_norm, X_mean, X_std = featureNormalization(X_train)\n",
        "X_train_new = np.c_[np.ones(X_train.shape[0]),X_train_norm]\n",
        "\n",
        "initial_theta = np.zeros((X_train_new.shape[1],1))\n",
        "theta, Loss = gradientDescent(X_train_new, y_train, initial_theta, alpha, num_iters)\n",
        "\n",
        "plt.plot(range(num_iters),Loss);\n",
        "plt.xlabel('Number of Iterations')\n",
        "plt.ylabel('Mean Squared Error')\n",
        "\n",
        "\n",
        "X_test_norm = applyNormalization(X_test, X_mean, X_std)\n",
        "X_test_new = np.c_[np.ones(X_test.shape[0]),X_test_norm]\n",
        "\n",
        "error = computeMSE(X_test_new, y_test, theta) \n",
        "print('Error:',error)\n",
        "# *****END OF YOUR CODE (DO NOT DELETE/MODIFY THIS LINE)*****"
      ],
      "execution_count": 67,
      "outputs": [
        {
          "output_type": "stream",
          "name": "stdout",
          "text": [
            "Error: 1.8105516123192704\n"
          ]
        },
        {
          "output_type": "display_data",
          "data": {
            "image/png": "[encoded data removed]",
            "text/plain": [
              "<Figure size 432x288 with 1 Axes>"
            ]
          },
          "metadata": {
            "needs_background": "light"
          }
        }
      ]
    },
    {
      "cell_type": "markdown",
      "metadata": {
        "id": "EePmmYxrkOo4"
      },
      "source": [
        "## 2.4 Effect of different learning rate (4 points) {-}\n",
        "\n",
        "To investigate the effect of learning rate, repeat the learning process (gradient descent) with different learning rate in $[1.0, 0.1, 0.01, 0.001]$. \n",
        "**Plot** 4 figures corresponding to different learning rates, where the $x$-axis is the number of iterations, \n",
        "and the $y$-axis is the loss value (MSE). **Print** the test error (MSE) respectively in the format \"test MSE for using learning rate __ is __\" (four lines in total)."
      ]
    },
    {
      "cell_type": "code",
      "metadata": {
        "id": "y8ANzIIam0NV",
        "colab": {
          "base_uri": "https://localhost:8080/",
          "height": 1000
        },
        "outputId": "eb4523ba-b5d2-47ed-a1d4-338b322d7fe7"
      },
      "source": [
        "learning_rates = [1.0, 0.1, 0.01, 0.001]\n",
        "\n",
        "# *****START OF YOUR CODE (DO NOT DELETE/MODIFY THIS LINE)*****\n",
        "for learning_rate in learning_rates:\n",
        "  theta, Loss = gradientDescent(X_train_new, y_train, initial_theta, learning_rate, num_iters)\n",
        "\n",
        "  f = plt.figure()\n",
        "  plt.plot(range(num_iters),Loss);\n",
        "  plt.xlabel('Number of Iterations')\n",
        "  plt.ylabel('Mean Squared Error')\n",
        "  plt.show()\n",
        "\n",
        "  error = computeMSE(X_test_new, y_test, theta)\n",
        "\n",
        "  print(\"test MSE for using learning rate \", learning_rate,\" is \", error)\n",
        "# *****END OF YOUR CODE (DO NOT DELETE/MODIFY THIS LINE)*****"
      ],
      "execution_count": 68,
      "outputs": [
        {
          "output_type": "stream",
          "name": "stderr",
          "text": [
            "/usr/local/lib/python3.7/dist-packages/numpy/core/_methods.py:160: RuntimeWarning: overflow encountered in reduce\n",
            "  ret = umr_sum(arr, axis, dtype, out, keepdims)\n",
            "/usr/local/lib/python3.7/dist-packages/ipykernel_launcher.py:12: RuntimeWarning: overflow encountered in power\n",
            "  if sys.path[0] == '':\n"
          ]
        },
        {
          "output_type": "display_data",
          "data": {
            "image/png": "[encoded data removed]",
            "text/plain": [
              "<Figure size 432x288 with 1 Axes>"
            ]
          },
          "metadata": {
            "needs_background": "light"
          }
        },
        {
          "output_type": "stream",
          "name": "stderr",
          "text": [
            "/usr/local/lib/python3.7/dist-packages/ipykernel_launcher.py:12: RuntimeWarning: overflow encountered in power\n",
            "  if sys.path[0] == '':\n"
          ]
        },
        {
          "output_type": "stream",
          "name": "stdout",
          "text": [
            "test MSE for using learning rate  1.0  is  inf\n"
          ]
        },
        {
          "output_type": "display_data",
          "data": {
            "image/png": "[encoded data removed]",
            "text/plain": [
              "<Figure size 432x288 with 1 Axes>"
            ]
          },
          "metadata": {
            "needs_background": "light"
          }
        },
        {
          "output_type": "stream",
          "name": "stdout",
          "text": [
            "test MSE for using learning rate  0.1  is  1.8970308647009455\n"
          ]
        },
        {
          "output_type": "display_data",
          "data": {
            "image/png": "[encoded data removed]",
            "text/plain": [
              "<Figure size 432x288 with 1 Axes>"
            ]
          },
          "metadata": {
            "needs_background": "light"
          }
        },
        {
          "output_type": "stream",
          "name": "stdout",
          "text": [
            "test MSE for using learning rate  0.01  is  1.8105516123192704\n"
          ]
        },
        {
          "output_type": "display_data",
          "data": {
            "image/png": "[encoded data removed]",
            "text/plain": [
              "<Figure size 432x288 with 1 Axes>"
            ]
          },
          "metadata": {
            "needs_background": "light"
          }
        },
        {
          "output_type": "stream",
          "name": "stdout",
          "text": [
            "test MSE for using learning rate  0.001  is  1.455561490062365\n"
          ]
        }
      ]
    },
    {
      "cell_type": "markdown",
      "metadata": {
        "id": "X2Ox89manO-n"
      },
      "source": [
        "## 2.5 Closed-form solution  {-}\n",
        "\n",
        "Gradient descent minimizes $L$ by updating $\\theta$ iteratively. There is another way to find the $\\theta$ explicitly. Indeed, by finding the root of the gradient $\\nabla_\\theta L(\\theta)$ (i.e., the $\\theta$ such that $\\nabla_\\theta L(\\theta) = 0$), we can obtain a closed-form solution of $\\theta$ that minimizes the loss $L$."
      ]
    },
    {
      "cell_type": "markdown",
      "metadata": {
        "id": "zw9FrxOB7KE_"
      },
      "source": [
        "**Step 1: find the root of the gradient to obtain the closed-form solution of $\\theta$  (5 points)**\n",
        "\n",
        "Type your result in the following lines:\n",
        "\n",
        "$$\n",
        "\\nabla_{\\theta}L(\\theta) = 0 \\quad \\Rightarrow \\quad \n",
        "\\theta = \n",
        "$$\n",
        "Then, implement a function `closeForm` to compute the closed-form solution of $\\theta$ using the expression you have derived above. "
      ]
    },
    {
      "cell_type": "code",
      "metadata": {
        "id": "HU3ltzQ1r9U3",
        "colab": {
          "base_uri": "https://localhost:8080/"
        },
        "outputId": "c97035a7-0df2-4b96-aa98-1a7f4feca351"
      },
      "source": [
        "def closeForm(X, y):\n",
        "  \"\"\"\n",
        "  Compute close form solution for theta\n",
        "  Inputs:\n",
        "  - X: a numpy array of shape (num_train, num_features+1)\n",
        "  - y: a 1-D numpy array of length (num_train)\n",
        "  Output:\n",
        "  - theta: a 1-D numpy array of length (num_features+1)\n",
        "  \"\"\"\n",
        "# *****START OF YOUR CODE (DO NOT DELETE/MODIFY THIS LINE)*****\n",
        "  m=len(y)\n",
        "  y= y.reshape((m,1))\n",
        "  theta = np.linalg.inv(X.transpose().dot(X)).dot(X.transpose()).dot(y) \n",
        "# *****END OF YOUR CODE (DO NOT DELETE/MODIFY THIS LINE)*****\n",
        "  return theta\n",
        "\n",
        "\"\"\"\n",
        "# Unit test case:\n",
        "# Should return\n",
        "[[ 0.76470588]\n",
        " [-0.17647059]\n",
        " [-0.11764706]]\n",
        "\"\"\"\n",
        "X = np.array([[2.0, 1.0, 3.0], [3.0, 6.0, 2.0], [-1, 0, 2.0]])\n",
        "y = np.array([1.0, 1.0, -1.0])\n",
        "theta = closeForm(X, y)\n",
        "print(theta)"
      ],
      "execution_count": 69,
      "outputs": [
        {
          "output_type": "stream",
          "name": "stdout",
          "text": [
            "[[ 0.76470588]\n",
            " [-0.17647059]\n",
            " [-0.11764706]]\n"
          ]
        }
      ]
    },
    {
      "cell_type": "markdown",
      "metadata": {
        "id": "RUIWxmR0sY4J"
      },
      "source": [
        "**Step 2: evaluate the test error using closed-form solution (2 points)** {-} \n",
        "\n",
        "Compute a new $\\theta$ using the closed-form solution. Evaluate the new $\\theta$ on test set by **printing** the test error (MSE) in the format: \"test MSE using close form solution is : __\"."
      ]
    },
    {
      "cell_type": "code",
      "metadata": {
        "id": "iHtEAKdXtRoD",
        "colab": {
          "base_uri": "https://localhost:8080/"
        },
        "outputId": "e723d8bc-09bf-4022-b9e0-5d6200d4d8c6"
      },
      "source": [
        "# *****START OF YOUR CODE (DO NOT DELETE/MODIFY THIS LINE)*****\n",
        "test_error = computeMSE(X, y, theta)\n",
        "# *****END OF YOUR CODE (DO NOT DELETE/MODIFY THIS LINE)*****\n",
        "\n",
        "print('test MSE using close form solution is : ', test_error)\n"
      ],
      "execution_count": 70,
      "outputs": [
        {
          "output_type": "stream",
          "name": "stdout",
          "text": [
            "test MSE using close form solution is :  0.6666666666666662\n"
          ]
        }
      ]
    },
    {
      "cell_type": "markdown",
      "metadata": {
        "id": "_si6Qa3wbuut"
      },
      "source": [
        "# Submission Instruction {-}\n",
        "\n",
        "You're almost done! Take the following steps to finally submit your work.\n",
        "\n",
        "1. After executing all commands and completing this notebook, save your `Lab_2.ipynb` as a PDF file, named as `X_Y_UIN.pdf`, where `X` is your first name, `Y` is your last name, and `UIN` is your UIN. Make sure that your PDF file includes all parts of your solution, including the plots. \n",
        "\n",
        "> * Print out all unit test case results before printing the notebook into a PDF.\n",
        "* If you use Colab, open this notebook in Chrome.  Then File -> Print -> set Destination to \"Save as PDF\".  If the web page freezes when printing, close Chrome and reopen the page. If Chrome doesn't work, try Firefox.\n",
        "* If you are working on your own computer, we recommend using the browser (not jupyter) for saving the PDF. For Chrome on a Mac, this is under *File->Print...->Open PDF in Preview*. When the PDF opens in Preview, you can use *Save...* to save it.\n",
        "* Sometimes, a figure that appears near the end of a page can get cut.  In this case, try to add some new lines or code blocks in the preceding code block so that the figure is pushed to the beginning of the next page.\n",
        "\n",
        "2. Upload `X_Y_UIN.pdf` to Gradescope under `Lab_2_Written`.\n",
        "\n",
        "3. A template of `Lab_2.py` has been provided.  For all functions in `Lab_2.py`, copy the corresponding code snippets you have written into it.  Do not copy any code of plotting figures. **Do not** change the function names.  **Do not** import libraries in Lab_2.py. \n",
        "\n",
        "4. Zip `Lab_2.py` and `Lab_2.ipynb` (**2 files**) into a zip file named `X_Y_UIN.zip`. Suppose the two files are in the folder `Lab_2`.  Then zip up the two files inside the `Lab_2` folder.  Do NOT zip up the folder `Lab_2`. Submit this zip file to Gradescope under `Lab_2_Code`. \n",
        "\n",
        "5. The autograder on Gradscope will be open all the time. We designed some simple test cases to help you check wehther your functions is execuable. You will see the results of running autogrder once you submit your code. Please follow the error messages to debug. If you see 'test `function_name` completed', it means your function is execuable; otherwise please follow the error messages to debug. Since those simple test cases are designed for debugging, it does not guaranttee your solution will work well on the real dataset. It is your responsibility to make your code logically correct. Since all functions are tested in batch, the autograder might take a few minutes to run after submission.\n",
        "\n",
        "6. Only one member of each team needs to submit.  But please specify **all** your teammates on Gradescope. After each submission, please click 'Add Group Member' (right up corner of your submission page) to claim all teammates.\n",
        "\n",
        "You can submit to Gradescope as many times as you would like. We will only consider your last submission."
      ]
    }
  ]
}